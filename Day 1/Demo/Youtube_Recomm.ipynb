{
 "cells": [
  {
   "cell_type": "code",
   "execution_count": 11,
   "id": "04a21df1",
   "metadata": {},
   "outputs": [
    {
     "name": "stdout",
     "output_type": "stream",
     "text": [
      "             Title     Genre\n",
      "0        Inception    Sci-Fi\n",
      "1     Interstellar    Sci-Fi\n",
      "2          Dunkirk       War\n",
      "3  The Dark Knight    Action\n",
      "4          Memento  Thriller\n",
      "  (0, 1)\t0.7071067811865476\n",
      "  (0, 2)\t0.7071067811865476\n",
      "  (1, 1)\t0.7071067811865476\n",
      "  (1, 2)\t0.7071067811865476\n",
      "  (2, 4)\t1.0\n",
      "  (3, 0)\t1.0\n",
      "  (4, 3)\t1.0\n",
      "[[1. 1. 0. 0. 0.]\n",
      " [1. 1. 0. 0. 0.]\n",
      " [0. 0. 1. 0. 0.]\n",
      " [0. 0. 0. 1. 0.]\n",
      " [0. 0. 0. 0. 1.]]\n",
      "0\n",
      "[(0, 1.0000000000000002), (1, 1.0000000000000002), (2, 0.0), (3, 0.0), (4, 0.0)]\n"
     ]
    },
    {
     "data": {
      "text/plain": [
       "['Interstellar', 'Dunkirk']"
      ]
     },
     "execution_count": 11,
     "metadata": {},
     "output_type": "execute_result"
    }
   ],
   "source": [
    "#Pandas -Numbers , Text\n",
    "#Numpy \n",
    "\n",
    "#matplotlib - visual\n",
    "\n",
    "#scikit\n",
    "#pytorch\n",
    "#tensorflow\n",
    "#sklearn\n",
    "#pip install pandas #To install pandas\n",
    "\n",
    "import pandas as pd\n",
    "from sklearn.feature_extraction.text import TfidfVectorizer\n",
    "from sklearn.metrics.pairwise import cosine_similarity\n",
    "\n",
    "#Dictionary datatype\n",
    "# Csv file , excel , Database (Stru , unstru)\n",
    "\n",
    "data={'Title':['Inception','Interstellar','Dunkirk','The Dark Knight','Memento'],'Genre':['Sci-Fi','Sci-Fi','War','Action','Thriller']}\n",
    "\n",
    "#Dataframe ->Data handling in pandas  (list , set etc)\n",
    "\n",
    "df= pd.DataFrame(data)\n",
    "\n",
    "print(df)\n",
    "\n",
    "\n",
    "# Text data ---> Numerical vectors\n",
    "\n",
    "vectorizer=TfidfVectorizer()\n",
    "genre_m =vectorizer.fit_transform(df['Genre'])\n",
    "\n",
    "\n",
    "print(genre_m)\n",
    "\n",
    "similarity = cosine_similarity(genre_m)\n",
    "\n",
    "print(similarity)\n",
    "\n",
    "\n",
    "def Youtube_Recommendation(title):\n",
    "    idx= df[df['Title']==title].index[0] # Get the index of movies\n",
    "    print(idx)\n",
    "    #[0,1,2,3,4]   --> Index  Enumerate() --> Add the result with index  [Index 0 : 0 , Index 1 : 1]\n",
    "    similar_films =  list(enumerate(similarity[idx])) # Get the similarity score \n",
    "    print(similar_films)\n",
    "    #sorted = asc , desc    \n",
    "    list_movies = sorted(similar_films, key=lambda x:x[1],reverse=True)[1:3] #sort & top recommendation of movie\n",
    "    recommendations=[df['Title'][i[0]]  for i in list_movies]\n",
    "    return recommendations\n",
    "    \n",
    "Youtube_Recommendation('Inception')"
   ]
  },
  {
   "cell_type": "code",
   "execution_count": null,
   "id": "3cde6c2d",
   "metadata": {},
   "outputs": [],
   "source": []
  },
  {
   "cell_type": "code",
   "execution_count": null,
   "id": "6c6ec8d0",
   "metadata": {},
   "outputs": [],
   "source": []
  }
 ],
 "metadata": {
  "kernelspec": {
   "display_name": "Python 3 (ipykernel)",
   "language": "python",
   "name": "python3"
  },
  "language_info": {
   "codemirror_mode": {
    "name": "ipython",
    "version": 3
   },
   "file_extension": ".py",
   "mimetype": "text/x-python",
   "name": "python",
   "nbconvert_exporter": "python",
   "pygments_lexer": "ipython3",
   "version": "3.11.0"
  }
 },
 "nbformat": 4,
 "nbformat_minor": 5
}

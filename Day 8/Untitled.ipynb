{
 "cells": [
  {
   "cell_type": "code",
   "execution_count": null,
   "id": "fa98e2e7",
   "metadata": {},
   "outputs": [],
   "source": [
    "#Data Pre Processing ----> ML Model \n",
    "\n",
    "1.Improve model accuracy \n",
    "2.analysis & training \n",
    "\n",
    "\n",
    "\n",
    "Steps:\n",
    "    \n",
    "    1.Data Cleaning (dup, remove incorrect , missing , fix )\n",
    "    2.Data Transformation (gender male , female --> 0,1)\n",
    "    3.Feature Engineering (new feature )\n",
    "    \n",
    "        3.1 .Feature Scaling ( Normalization (Min-Max Scaling)  ,  Standardization (Z-score Scaling) )\n",
    "        3.2 .Outlier detection  (dog , cat)\n",
    "        \n",
    "            1.Statistical Methods:\n",
    "\n",
    "                Z-score (|z| > 3 considered outlier)\n",
    "\n",
    "                IQR method (Q1 - 1.5×IQR, Q3 + 1.5×IQR)\n",
    "\n",
    "            2.Visualization:\n",
    "\n",
    "                Boxplots, histograms, scatterplots\n",
    "\n",
    "            3.Model-Based:\n",
    "\n",
    "                Isolation Forest\n",
    "\n",
    "                DBSCAN\n",
    "\n",
    "                LOF (Local Outlier Factor)\n",
    "                \n",
    "    4.Feature Selection (select 1 feature --> model )\n",
    "    \n",
    "    \n",
    "    \n"
   ]
  },
  {
   "cell_type": "code",
   "execution_count": 1,
   "id": "2c7ce19d",
   "metadata": {},
   "outputs": [],
   "source": [
    "#Feature Engineering \n",
    "\n",
    "\n",
    "import pandas as pd\n",
    "\n",
    "#Titanic-Dataset.csv\n",
    "\n",
    "Td=pd.read_csv(\"Titanic-Dataset.csv\")\n"
   ]
  },
  {
   "cell_type": "code",
   "execution_count": 2,
   "id": "7bb3b77e",
   "metadata": {},
   "outputs": [
    {
     "name": "stdout",
     "output_type": "stream",
     "text": [
      "     PassengerId  Survived  Pclass  \\\n",
      "0              1         0       3   \n",
      "1              2         1       1   \n",
      "2              3         1       3   \n",
      "3              4         1       1   \n",
      "4              5         0       3   \n",
      "..           ...       ...     ...   \n",
      "886          887         0       2   \n",
      "887          888         1       1   \n",
      "888          889         0       3   \n",
      "889          890         1       1   \n",
      "890          891         0       3   \n",
      "\n",
      "                                                  Name     Sex   Age  SibSp  \\\n",
      "0                              Braund, Mr. Owen Harris    male  22.0      1   \n",
      "1    Cumings, Mrs. John Bradley (Florence Briggs Th...  female  38.0      1   \n",
      "2                               Heikkinen, Miss. Laina  female  26.0      0   \n",
      "3         Futrelle, Mrs. Jacques Heath (Lily May Peel)  female  35.0      1   \n",
      "4                             Allen, Mr. William Henry    male  35.0      0   \n",
      "..                                                 ...     ...   ...    ...   \n",
      "886                              Montvila, Rev. Juozas    male  27.0      0   \n",
      "887                       Graham, Miss. Margaret Edith  female  19.0      0   \n",
      "888           Johnston, Miss. Catherine Helen \"Carrie\"  female   NaN      1   \n",
      "889                              Behr, Mr. Karl Howell    male  26.0      0   \n",
      "890                                Dooley, Mr. Patrick    male  32.0      0   \n",
      "\n",
      "     Parch            Ticket     Fare Cabin Embarked  \n",
      "0        0         A/5 21171   7.2500   NaN        S  \n",
      "1        0          PC 17599  71.2833   C85        C  \n",
      "2        0  STON/O2. 3101282   7.9250   NaN        S  \n",
      "3        0            113803  53.1000  C123        S  \n",
      "4        0            373450   8.0500   NaN        S  \n",
      "..     ...               ...      ...   ...      ...  \n",
      "886      0            211536  13.0000   NaN        S  \n",
      "887      0            112053  30.0000   B42        S  \n",
      "888      2        W./C. 6607  23.4500   NaN        S  \n",
      "889      0            111369  30.0000  C148        C  \n",
      "890      0            370376   7.7500   NaN        Q  \n",
      "\n",
      "[891 rows x 12 columns]\n"
     ]
    }
   ],
   "source": [
    "print(Td)\n",
    "\n"
   ]
  },
  {
   "cell_type": "code",
   "execution_count": null,
   "id": "ca12d468",
   "metadata": {},
   "outputs": [],
   "source": [
    "#Steps in FE:\n",
    "\n",
    "1.Droping\n",
    "2.Handling missing values (Nan, null, empty string , special char )\n",
    "3.Creating feature (family_size)\n",
    "4.encode categorical variables\n",
    "5.Feature Scaling"
   ]
  },
  {
   "cell_type": "code",
   "execution_count": 4,
   "id": "84b34881",
   "metadata": {},
   "outputs": [],
   "source": [
    "Td = Td.drop('Pclass', axis=1)"
   ]
  },
  {
   "cell_type": "code",
   "execution_count": 11,
   "id": "cd9ed92e",
   "metadata": {},
   "outputs": [
    {
     "name": "stdout",
     "output_type": "stream",
     "text": [
      "0      22.0\n",
      "1      38.0\n",
      "2      26.0\n",
      "3      35.0\n",
      "4      35.0\n",
      "       ... \n",
      "886    27.0\n",
      "887    19.0\n",
      "888     NaN\n",
      "889    26.0\n",
      "890    32.0\n",
      "Name: Age, Length: 891, dtype: float64\n"
     ]
    }
   ],
   "source": [
    "#print(Td)\n",
    "\n",
    "#missing\n",
    "\n",
    "Td['Age'].fillna(Td['Age'].median())\n",
    "print(Td['Age'])"
   ]
  },
  {
   "cell_type": "code",
   "execution_count": 12,
   "id": "86c7f48a",
   "metadata": {},
   "outputs": [],
   "source": [
    "#new feature \n",
    "\n",
    "Td['family_size']=Td['SibSp']+Td['Parch']+1"
   ]
  },
  {
   "cell_type": "code",
   "execution_count": 13,
   "id": "1f68fa8a",
   "metadata": {},
   "outputs": [
    {
     "name": "stdout",
     "output_type": "stream",
     "text": [
      "0      2\n",
      "1      2\n",
      "2      1\n",
      "3      2\n",
      "4      1\n",
      "      ..\n",
      "886    1\n",
      "887    1\n",
      "888    4\n",
      "889    1\n",
      "890    1\n",
      "Name: family_size, Length: 891, dtype: int64\n"
     ]
    }
   ],
   "source": [
    "print(Td['family_size'])"
   ]
  },
  {
   "cell_type": "code",
   "execution_count": 15,
   "id": "3fc27905",
   "metadata": {},
   "outputs": [],
   "source": [
    "Td['Isalone']=(Td['family_size']==1).astype(int)"
   ]
  },
  {
   "cell_type": "code",
   "execution_count": 17,
   "id": "ebd70acc",
   "metadata": {},
   "outputs": [
    {
     "name": "stdout",
     "output_type": "stream",
     "text": [
      "0      0\n",
      "1      0\n",
      "2      1\n",
      "3      0\n",
      "4      1\n",
      "      ..\n",
      "886    1\n",
      "887    1\n",
      "888    0\n",
      "889    1\n",
      "890    1\n",
      "Name: Isalone, Length: 891, dtype: int32\n"
     ]
    }
   ],
   "source": [
    "print(Td['Isalone'])"
   ]
  },
  {
   "cell_type": "code",
   "execution_count": 20,
   "id": "997edf8c",
   "metadata": {},
   "outputs": [],
   "source": [
    "#Step processing with encoding\n",
    "\n",
    "from sklearn.preprocessing import LabelEncoder\n",
    "le=LabelEncoder()\n",
    "Td['Sex']=le.fit_transform(Td['Sex']) # fema=0, male =1\n",
    "Td['Embarked']=le.fit_transform(Td['Embarked']) #s=0 , c =1"
   ]
  },
  {
   "cell_type": "code",
   "execution_count": 22,
   "id": "6cbe7e33",
   "metadata": {},
   "outputs": [
    {
     "name": "stdout",
     "output_type": "stream",
     "text": [
      "0      1\n",
      "1      0\n",
      "2      0\n",
      "3      0\n",
      "4      1\n",
      "      ..\n",
      "886    1\n",
      "887    0\n",
      "888    0\n",
      "889    1\n",
      "890    1\n",
      "Name: Sex, Length: 891, dtype: int64\n",
      "0      2\n",
      "1      0\n",
      "2      2\n",
      "3      2\n",
      "4      2\n",
      "      ..\n",
      "886    2\n",
      "887    2\n",
      "888    2\n",
      "889    0\n",
      "890    1\n",
      "Name: Embarked, Length: 891, dtype: int32\n"
     ]
    }
   ],
   "source": [
    "print(Td['Sex'])\n",
    "print(Td['Embarked'])"
   ]
  },
  {
   "cell_type": "code",
   "execution_count": 29,
   "id": "d32640a3",
   "metadata": {},
   "outputs": [
    {
     "name": "stdout",
     "output_type": "stream",
     "text": [
      "0     -0.530377\n",
      "1      0.571831\n",
      "2     -0.254825\n",
      "3      0.365167\n",
      "4      0.365167\n",
      "         ...   \n",
      "886   -0.185937\n",
      "887   -0.737041\n",
      "888         NaN\n",
      "889   -0.254825\n",
      "890    0.158503\n",
      "Name: Age, Length: 891, dtype: float64\n",
      "0     -0.502445\n",
      "1      0.786845\n",
      "2     -0.488854\n",
      "3      0.420730\n",
      "4     -0.486337\n",
      "         ...   \n",
      "886   -0.386671\n",
      "887   -0.044381\n",
      "888   -0.176263\n",
      "889   -0.044381\n",
      "890   -0.492378\n",
      "Name: Fare, Length: 891, dtype: float64\n",
      "0      0.059160\n",
      "1      0.059160\n",
      "2     -0.560975\n",
      "3      0.059160\n",
      "4     -0.560975\n",
      "         ...   \n",
      "886   -0.560975\n",
      "887   -0.560975\n",
      "888    1.299429\n",
      "889   -0.560975\n",
      "890   -0.560975\n",
      "Name: family_size, Length: 891, dtype: float64\n"
     ]
    }
   ],
   "source": [
    "#feature scaling\n",
    "\n",
    "from sklearn.preprocessing import StandardScaler\n",
    "scaler = StandardScaler()\n",
    "\n",
    "\n",
    "\n",
    "Td[['Age','Fare','family_size']]=scaler.fit_transform(Td[['Age','Fare','family_size']])\n",
    "print(Td['Age'])\n",
    "print(Td['Fare'])\n",
    "print(Td['family_size'])"
   ]
  },
  {
   "cell_type": "code",
   "execution_count": null,
   "id": "89de623b",
   "metadata": {},
   "outputs": [],
   "source": []
  },
  {
   "cell_type": "code",
   "execution_count": null,
   "id": "826f9339",
   "metadata": {},
   "outputs": [],
   "source": []
  }
 ],
 "metadata": {
  "kernelspec": {
   "display_name": "Python 3 (ipykernel)",
   "language": "python",
   "name": "python3"
  },
  "language_info": {
   "codemirror_mode": {
    "name": "ipython",
    "version": 3
   },
   "file_extension": ".py",
   "mimetype": "text/x-python",
   "name": "python",
   "nbconvert_exporter": "python",
   "pygments_lexer": "ipython3",
   "version": "3.11.0"
  }
 },
 "nbformat": 4,
 "nbformat_minor": 5
}

{
 "cells": [
  {
   "cell_type": "code",
   "execution_count": null,
   "id": "9e6ded9e",
   "metadata": {},
   "outputs": [],
   "source": [
    "pip install tensorflow"
   ]
  },
  {
   "cell_type": "code",
   "execution_count": null,
   "id": "c6446da7",
   "metadata": {},
   "outputs": [],
   "source": [
    "#Image Classification using tensorflow\n",
    "\n",
    "#Neural Network framework --> Tensorflow \n",
    "\n",
    "#ML NN--> Input , Hidden layer (1,2,3,4) , Output layer \n",
    "\n",
    "\n",
    "\n",
    "import matplotlib.pyplot as plt  #-->visual tool\n",
    "import numpy as np #numerical \n",
    "import PIL #image processing pillow/ opencv/ darknet,pytorch vision / nn\n",
    "import tensorflow as tf \n",
    "\n",
    "from tensorflow import keras #framework of NN\n",
    "from tensorflow.keras import layers\n",
    "from tensorflow.keras.models import Sequential  "
   ]
  },
  {
   "cell_type": "code",
   "execution_count": null,
   "id": "64a8d76a",
   "metadata": {},
   "outputs": [],
   "source": [
    "#Input dataset\n",
    "\n",
    "import pathlib\n",
    "dataset_url = \"https://storage.googleapis.com/download.tensorflow.org/example_images/flower_photos.tgz\"\n",
    "data_dir = tf.keras.utils.get_file('flower_photos.tar', origin=dataset_url, extract=True)\n",
    "data_dir = pathlib.Path(data_dir).with_suffix('')"
   ]
  },
  {
   "cell_type": "code",
   "execution_count": null,
   "id": "3d641a4e",
   "metadata": {},
   "outputs": [],
   "source": [
    "image_count=len(list(data_dir.glob('*/*.jpg')))\n",
    "print(image_count)"
   ]
  },
  {
   "cell_type": "code",
   "execution_count": null,
   "id": "802d7238",
   "metadata": {},
   "outputs": [],
   "source": [
    "roses=list(data_dir.glob('roses*/*'))\n",
    "PIL.Image.open(str(roses[1]))"
   ]
  },
  {
   "cell_type": "code",
   "execution_count": null,
   "id": "452620b1",
   "metadata": {},
   "outputs": [],
   "source": [
    "#Dataset creation for out need \n",
    "\n",
    "batch_size = 32\n",
    "img_height = 180\n",
    "img_width = 180"
   ]
  },
  {
   "cell_type": "code",
   "execution_count": null,
   "id": "254b7dc6",
   "metadata": {},
   "outputs": [],
   "source": [
    "train_ds = tf.keras.utils.image_dataset_from_directory(\n",
    "  data_dir,\n",
    "  validation_split=0.2,\n",
    "  subset=\"training\",\n",
    "  seed=123,\n",
    "  image_size=(img_height, img_width),\n",
    "  batch_size=batch_size)"
   ]
  },
  {
   "cell_type": "code",
   "execution_count": null,
   "id": "f64fb2be",
   "metadata": {},
   "outputs": [],
   "source": [
    "val_ds = tf.keras.utils.image_dataset_from_directory(\n",
    "  data_dir,\n",
    "  validation_split=0.2,\n",
    "  subset=\"validation\",\n",
    "  seed=123,\n",
    "  image_size=(img_height, img_width),\n",
    "  batch_size=batch_size)"
   ]
  },
  {
   "cell_type": "code",
   "execution_count": null,
   "id": "3a4212f6",
   "metadata": {},
   "outputs": [],
   "source": [
    "class_names = train_ds.class_names\n",
    "print(class_names)"
   ]
  },
  {
   "cell_type": "code",
   "execution_count": null,
   "id": "880b423a",
   "metadata": {},
   "outputs": [],
   "source": [
    "pictures=list(data_dir.glob('tulips*/*'))\n",
    "PIL.Image.open(str(pictures[1]))"
   ]
  },
  {
   "cell_type": "code",
   "execution_count": null,
   "id": "be1e30af",
   "metadata": {},
   "outputs": [],
   "source": [
    "import matplotlib.pyplot as plt\n",
    "\n",
    "plt.figure(figsize=(10,10))\n",
    "for images, labels in train_ds:\n",
    "    for i in range(9):\n",
    "        ax=plt.subplot(3,3,i+1)\n",
    "        plt.imshow(images[i].numpy().astype(\"uint8\"))\n",
    "        plt.title(class_names[labels[i]])\n",
    "        plt.axis(\"off\")"
   ]
  },
  {
   "cell_type": "code",
   "execution_count": null,
   "id": "70932e8c",
   "metadata": {},
   "outputs": [],
   "source": []
  }
 ],
 "metadata": {
  "kernelspec": {
   "display_name": "Python 3 (ipykernel)",
   "language": "python",
   "name": "python3"
  },
  "language_info": {
   "codemirror_mode": {
    "name": "ipython",
    "version": 3
   },
   "file_extension": ".py",
   "mimetype": "text/x-python",
   "name": "python",
   "nbconvert_exporter": "python",
   "pygments_lexer": "ipython3",
   "version": "3.11.0"
  }
 },
 "nbformat": 4,
 "nbformat_minor": 5
}

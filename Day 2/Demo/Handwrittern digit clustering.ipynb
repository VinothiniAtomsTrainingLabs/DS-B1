{
 "cells": [
  {
   "cell_type": "code",
   "execution_count": null,
   "id": "722647d5",
   "metadata": {},
   "outputs": [],
   "source": [
    "#Load data , Preprocessing , Model training , ACCuracy "
   ]
  },
  {
   "cell_type": "code",
   "execution_count": 14,
   "id": "99d98fec",
   "metadata": {
    "scrolled": true
   },
   "outputs": [
    {
     "name": "stdout",
     "output_type": "stream",
     "text": [
      "(1797, 64)\n"
     ]
    },
    {
     "name": "stderr",
     "output_type": "stream",
     "text": [
      "C:\\Users\\bjawa\\AppData\\Local\\Programs\\Python\\Python311\\Lib\\site-packages\\sklearn\\cluster\\_kmeans.py:870: FutureWarning: The default value of `n_init` will change from 10 to 'auto' in 1.4. Set the value of `n_init` explicitly to suppress the warning\n",
      "  warnings.warn(\n"
     ]
    },
    {
     "name": "stdout",
     "output_type": "stream",
     "text": [
      "(10, 64)\n"
     ]
    },
    {
     "data": {
      "image/png": "[encoded data removed]",
      "text/plain": [
       "<Figure size 800x300 with 10 Axes>"
      ]
     },
     "metadata": {},
     "output_type": "display_data"
    }
   ],
   "source": [
    "from sklearn.datasets import load_digits #loading data\n",
    "import matplotlib.pyplot as diagram #Visual\n",
    "import seaborn as sb #Visual\n",
    "import numpy as np #Handling data \n",
    "from sklearn.cluster import KMeans\n",
    "\n",
    "a=load_digits()\n",
    "#print(a)\n",
    "print(a.data.shape)\n",
    "km = KMeans(n_clusters = 10 , random_state=0)  #algorithm task 1 , #task 2 - Do it for cluster 20 , size 3,10\n",
    "cls = km.fit_predict(a.data)\n",
    "print(km.cluster_centers_.shape)\n",
    "\n",
    "fig , ax = diagram.subplots(2,5, figsize=(8,3))\n",
    "centers= km.cluster_centers_.reshape(10,8,8)\n",
    "for i,c in zip(ax.flat,centers):\n",
    "    i.set(xticks=[], yticks=[])\n",
    "    i.imshow(c , interpolation='nearest')"
   ]
  },
  {
   "cell_type": "code",
   "execution_count": null,
   "id": "60714307",
   "metadata": {},
   "outputs": [],
   "source": [
    "#algorithm task 1 "
   ]
  },
  {
   "cell_type": "code",
   "execution_count": null,
   "id": "ae780fdc",
   "metadata": {},
   "outputs": [],
   "source": [
    "#task 2 - Do it for cluster 20 , size 3,10"
   ]
  }
 ],
 "metadata": {
  "kernelspec": {
   "display_name": "Python 3 (ipykernel)",
   "language": "python",
   "name": "python3"
  },
  "language_info": {
   "codemirror_mode": {
    "name": "ipython",
    "version": 3
   },
   "file_extension": ".py",
   "mimetype": "text/x-python",
   "name": "python",
   "nbconvert_exporter": "python",
   "pygments_lexer": "ipython3",
   "version": "3.11.0"
  }
 },
 "nbformat": 4,
 "nbformat_minor": 5
}
